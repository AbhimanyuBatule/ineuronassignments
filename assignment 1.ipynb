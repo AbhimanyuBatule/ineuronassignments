{
 "cells": [
  {
   "cell_type": "markdown",
   "id": "c1e249fb",
   "metadata": {},
   "source": [
    "QUE 1\n",
    "1. *                                  - expression\n",
    "2. 'hellow'                           - Value\n",
    "3. -87.8                              - Value\n",
    "4. -                                  - Expression\n",
    "5. /                                  - expression\n",
    "6. +                                  - expression \n",
    "7. 6                                  - value\n",
    "\n",
    "\n",
    "2. What is the difference between string and variable?\n",
    "-> a Variable is a storage of information and a String is a type of information which will be stored in a variable\n",
    "\n",
    "\n",
    "3. Describe three different data types.\n",
    "->  integer - integers are being stored inside the variable , eg. \"4\"\n",
    "    string - alphabates are being stored in a variable\n",
    "    boolean - expressions having value True or False are stored in a boolean variable\n",
    "    \n",
    "4. What is an expression made up of? What do all expressions do?\n",
    "-An expression is a construct made up of variables, operators, and method invocations, which are constructed according to the syntax of the language, that evaluates to a single value.\n",
    "\n",
    "5. This assignment statements, like spam = 10. What is the difference between an\n",
    "expression and a statement?\n",
    "-> An expression is a construct made up of variables, operators, and method invocations, which are constructed according to the syntax of the language, that evaluates to a single value.\n",
    "\n",
    "6. After running the following code, what does the variable bacon contain?\n",
    "bacon = 22\n",
    "bacon + 1\n",
    "-> 23\n",
    "\n",
    "7. What should the values of the following two terms be?\n",
    "'spam' + 'spamspam'\n",
    "'spam' *3\n",
    "-> 'spamspamspam'\n",
    "   'spamspamspam'\n",
    "   \n",
    "   \n",
    "8. Why is eggs a valid variable name while 100 is invalid?\n",
    "->we can't use numbers as variable names.\n",
    "\n",
    "9. What three functions can be used to get the integer, floating-point number, or string\n",
    "version of a value?\n",
    "-> The int() , float() , and str( ) functions will evaluate to the integer, floating-point number, and string versions of the value passed to them.\n",
    "\n",
    "10. Why does this expression cause an error? How can you fix it?\n",
    "        'i have eaten ' + 99 + 'burritos.'\n",
    "-> we can't concatenate int variable with string variables \n",
    "we can change 99 to string with help of str() function.\n",
    "        like this:\n",
    "        'i have eaten ' + '99' + 'burritos.'"
   ]
  }
 ],
 "metadata": {
  "kernelspec": {
   "display_name": "Python 3",
   "language": "python",
   "name": "python3"
  },
  "language_info": {
   "codemirror_mode": {
    "name": "ipython",
    "version": 3
   },
   "file_extension": ".py",
   "mimetype": "text/x-python",
   "name": "python",
   "nbconvert_exporter": "python",
   "pygments_lexer": "ipython3",
   "version": "3.8.8"
  }
 },
 "nbformat": 4,
 "nbformat_minor": 5
}
