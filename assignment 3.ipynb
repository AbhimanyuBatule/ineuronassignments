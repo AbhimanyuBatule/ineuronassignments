{
 "cells": [
  {
   "cell_type": "markdown",
   "id": "c1e249fb",
   "metadata": {},
   "source": [
    "1. Why are functions advantageous to have in your programs?\n",
    "-> Functions reduce the need for duplicate code. This makes programs shorter, easier to read, and easier to update.\n",
    "\n",
    "2. When does the code in a function run: when it&#39;s specified or when it&#39;s called?\n",
    "-> When a function is \"called\" the program \"leaves\" the current section of code and begins to execute the first line inside the function.\n",
    "\n",
    "3. What statement creates a function?\n",
    "-> Python creating functions. A function is created with the def keyword. The statements in the block of the function must be indented. The def keyword is followed by the function name with round brackets and a colon.\n",
    "\n",
    "4. What is the difference between a function and a function call?\n",
    "-> A function is a block of code that does a particular operation and returns a result. It usually accepts inputs as parameters and returns a result. The parameters are not mandatory. A function call is the code used to pass control to a function.\n",
    "\n",
    "5. How many global scopes are there in a Python program? How many local scopes?\n",
    "-> There's only one global Python scope per program execution. This scope remains in existence until the program terminates and all its names are forgotten.\n",
    "\n",
    "6. What happens to variables in a local scope when the function call returns?\n",
    "-> When the execution of the function terminates (returns), the local variables are destroyed. Codelens helps you visualize this because the local variables disappear after the function returns.\n",
    "\n",
    "7. What is the concept of a return value? Is it possible to have a return value in an expression?\n",
    "-> A return is a value that a function returns to the calling script or function when it completes its task. A return value can be any one of the four variable types: handle, integer, object, or string. The type of value your function returns depends largely on the task it performs. If the return statement is without any expression, then the special value None is returned.\n",
    "\n",
    "8. If a function does not have a return statement, what is the return value of a call to that function?\n",
    "-> If no return statement appears in a function definition, control automatically returns to the calling function after the last statement of the called function is executed. In this case, the return value of the called function is undefined.\n",
    "\n",
    "9. How do you make a function variable refer to the global variable?\n",
    "-> If you want to refer to a global variable in a function, you can use the global keyword to declare which variables are global.\n",
    "\n",
    "10. What is the data type of None?\n",
    "-> The None keyword is used to define a null value, or no value at all. None is not the same as 0, False, or an empty string. None is a data type of its own (NoneType) and only None can be None.\n",
    "\n",
    "11. What does the sentence import areallyourpetsnamederic do?\n",
    "-> That import statement imports a module named areallyourpetsnamederic.\n",
    "\n",
    "12. If you had a bacon() feature in a spam module, what would you call it after importing spam?\n",
    "-> his function can be called with spam. bacon().\n",
    "\n",
    "13. What can you do to save a programme from crashing if it encounters an error?\n",
    "-> When it encounters an error, the control is passed to the except block, skipping the code in between.we have to move our code inside a try and except statement. Try running the program and it should throw an error message instead of crashing the program.\n",
    "\n",
    "14. What is the purpose of the try clause? What is the purpose of the except clause?\n",
    "-> The try block lets you test a block of code for errors. The except block lets you handle the error."
   ]
  }
 ],
 "metadata": {
  "kernelspec": {
   "display_name": "Python 3",
   "language": "python",
   "name": "python3"
  },
  "language_info": {
   "codemirror_mode": {
    "name": "ipython",
    "version": 3
   },
   "file_extension": ".py",
   "mimetype": "text/x-python",
   "name": "python",
   "nbconvert_exporter": "python",
   "pygments_lexer": "ipython3",
   "version": "3.8.8"
  }
 },
 "nbformat": 4,
 "nbformat_minor": 5
}
