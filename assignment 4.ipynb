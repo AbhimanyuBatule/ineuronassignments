{
 "cells": [
  {
   "cell_type": "markdown",
   "id": "c1e249fb",
   "metadata": {},
   "source": [
    "1. What exactly is []?\n",
    "-> What is []? The empty list value, which is a list value that contains no items. This is similar to how '' is the empty string value.\n",
    "\n",
    "2. In a list of values stored in a variable called spam, how would you assign the value 'hello' as the\n",
    "third value? (Assume [2, 4, 6, 8, 10] are in spam.)\n",
    "-> list.insert(2, 'hello')\n",
    "\n",
    "3. What is the value of spam[int(int('3' * 2) / 11)]?\n",
    "-> d\n",
    "\n",
    "4. What is the value of spam[-1]?\n",
    "->It returns the last value of the list.  which is d\n",
    "\n",
    "5. What is the value of spam[:2]?\n",
    "-> [c]\n",
    "\n",
    "6. What is the value of bacon.index('cat')?\n",
    "-> 1\n",
    "\n",
    "7. How does bacon.append(99) change the look of the list value in bacon?\n",
    "-> [3.14, 'cat', 11,'cat', True, 99]\n",
    "\n",
    "8. How does bacon.remove('cat') change the look of the list in bacon?\n",
    "-> [3.14, 11,'cat' True, 99]\n",
    "\n",
    "9. What are the list concatenation and list replication operators?\n",
    "The operator for list concatenation is +, while the operator for replication is *. (This is the same as for strings.)\n",
    "\n",
    "10. What is difference between the list methods append() and insert()?\n",
    "-> append method is used to add a element at the last index of the list while insert method adds the element the desired index.\n",
    "\n",
    "11. What are the two methods for removing items from a list?\n",
    "-> The methods are remove(), pop() and clear(). It helps to remove the very first given element matching from the list. The pop() method removes an element from the list based on the index given. The clear() method will remove all the elements present in the list.\n",
    "\n",
    "12. Describe how list values and string values are identical.\n",
    "-> The similarity between Lists and Strings in Python is that both are sequences. The differences between them are that firstly, Lists are mutable but Strings are immutable. Secondly, elements of a list can be of different types whereas a String only contains characters that are all of String type.\n",
    "\n",
    "13. What's the difference between tuples and lists?\n",
    "-> The key difference between the tuples and lists is that while the tuples are immutable objects the lists are mutable. This means that tuples cannot be changed while the lists can be modified.\n",
    "\n",
    "14. How do you type a tuple value that only contains the integer 42?\n",
    "-> (42,)\n",
    "\n",
    "15. How do you get a list value's tuple form? How do you get a tuple value's list form?\n",
    "-> by using zip() and iter() methods we can take these forms\n",
    "\n",
    "16. Variables that \"contain\" list values are not necessarily lists themselves. Instead, what do they\n",
    "contain?\n",
    "-> Variables will contain references to list values rather than list values themselves. But for strings and integer values, variables simply contain the string or integer value.\n",
    "\n",
    "17. How do you distinguish between copy.copy() and copy.deepcopy()?\n",
    "-> copy() create reference to original object. If you change copied object - you change the original object. . deepcopy() creates new object and does real copying of original object to new one. "
   ]
  }
 ],
 "metadata": {
  "kernelspec": {
   "display_name": "Python 3",
   "language": "python",
   "name": "python3"
  },
  "language_info": {
   "codemirror_mode": {
    "name": "ipython",
    "version": 3
   },
   "file_extension": ".py",
   "mimetype": "text/x-python",
   "name": "python",
   "nbconvert_exporter": "python",
   "pygments_lexer": "ipython3",
   "version": "3.8.8"
  }
 },
 "nbformat": 4,
 "nbformat_minor": 5
}
