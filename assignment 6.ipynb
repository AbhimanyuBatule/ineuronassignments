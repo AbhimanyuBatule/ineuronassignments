{
 "cells": [
  {
   "cell_type": "markdown",
   "id": "c1e249fb",
   "metadata": {},
   "source": [
    "1. What are escape characters, and how do you use them?\n",
    "-> To insert characters that are illegal in a string, use an escape character. An escape character is a backslash \\ followed by the character you want to insert.\n",
    "\n",
    "2. What do the escape characters n and t stand for?\n",
    "-> An escape sequence is a sequence of characters that, when used inside a character or string, does not represent itself but is converted into another character or series of characters that may be difficult or impossible to express directly like newline (\\n), tab (\\t), and so on.\n",
    "\n",
    "3. What is the way to include backslash characters in a string?\n",
    "->  need two backslashes or use the @ verbatim string: var s = \"\\\\Tasks\"; // or var s = @\"\\Tasks\"; \n",
    "\n",
    "4. The string \"Howl's Moving Castle\" is a correct value. Why isn't the single quote character in the\n",
    "word Howl's not escaped a problem?\n",
    "-> The single quote in Howl's is fine because you've used double quotes to mark the beginning and end of the string.\n",
    "\n",
    "5. How do you write a string of newlines if you don'\\t want to use the n character?\n",
    "->\\n\n",
    "\n",
    "6. What are the values of the given expressions? \n",
    "'Hello, world!'[1]\n",
    "-> 'e'\n",
    "'Hello, world!'[0:5]\n",
    "->','\n",
    "'Hello, world!'[: 5]\n",
    "->','\n",
    "'Hello, world!'[:3]\n",
    "->'l'\n",
    "\n",
    "7. What are the values of the following expressions?\n",
    "'Hello'.upper()\n",
    "-> HELLO\n",
    "\"Hello\".upper().isupper()\n",
    "-> True\n",
    "'Hello'.upper().lower()\n",
    "-> hello\n",
    "\n",
    "8. What are the values of the following expressions?\n",
    "'Remember, remember, the fifth of July.'.split()\n",
    "-> ['Remember,', 'remember,', 'the', 'fifth', 'of', 'July.']\n",
    "\n",
    "'-'.join('There can only one.'.split())\n",
    "-> There-can-only-one.\n",
    "\n",
    "9. What are the methods for right-justifying, left-justifying, and centering a string?\n",
    "-> rjust() , ljust(), centre().\n",
    "\n",
    "10. What is the best way to remove whitespace characters from the start or end?\n",
    "-> String. Trim() removes all whitespace from the beginning and end of a string.\n",
    "\n"
   ]
  }
 ],
 "metadata": {
  "kernelspec": {
   "display_name": "Python 3",
   "language": "python",
   "name": "python3"
  },
  "language_info": {
   "codemirror_mode": {
    "name": "ipython",
    "version": 3
   },
   "file_extension": ".py",
   "mimetype": "text/x-python",
   "name": "python",
   "nbconvert_exporter": "python",
   "pygments_lexer": "ipython3",
   "version": "3.8.8"
  }
 },
 "nbformat": 4,
 "nbformat_minor": 5
}
