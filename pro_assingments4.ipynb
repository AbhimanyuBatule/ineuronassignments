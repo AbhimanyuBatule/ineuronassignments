{
 "cells": [
  {
   "cell_type": "markdown",
   "id": "1a7229de",
   "metadata": {},
   "source": [
    "<h3> 1.Write a Python Program to Find the Factorial of a Number?</h3>"
   ]
  },
  {
   "cell_type": "code",
   "execution_count": 24,
   "id": "da31b7be",
   "metadata": {},
   "outputs": [
    {
     "name": "stdout",
     "output_type": "stream",
     "text": [
      "5\n",
      "Factorial of 5 is 120\n"
     ]
    }
   ],
   "source": [
    "def factorial(n):\n",
    "    fact = 1\n",
    "    if n==1:\n",
    "        return 1\n",
    "    elif n==0:\n",
    "        return 0\n",
    "    elif n <1:\n",
    "        return \"Invalid input\"\n",
    "    for i in range(2,n+1):\n",
    "        fact *= i\n",
    "    return fact\n",
    "f = list(map(int,input().split()))\n",
    "for i in f:\n",
    "    if i >0:\n",
    "        print(f\"Factorial of {i} is {factorial(i)}\")\n",
    "    else:\n",
    "        print(\"Invalid Input\")"
   ]
  },
  {
   "cell_type": "markdown",
   "id": "75e39248",
   "metadata": {},
   "source": [
    "<h3> 2.Write a Python Program to Display the multiplication Table?</h3>"
   ]
  },
  {
   "cell_type": "code",
   "execution_count": 26,
   "id": "05ce6d93",
   "metadata": {},
   "outputs": [
    {
     "name": "stdout",
     "output_type": "stream",
     "text": [
      "Enter any number:8\n",
      "8\n",
      "16\n",
      "24\n",
      "32\n",
      "40\n",
      "48\n",
      "56\n",
      "64\n",
      "72\n",
      "80\n"
     ]
    }
   ],
   "source": [
    "num = int(input(\"Enter any number:\"))\n",
    "for i in range(1,11):\n",
    "    print(num*i)"
   ]
  },
  {
   "cell_type": "markdown",
   "id": "f6163ce4",
   "metadata": {},
   "source": [
    "<h3> 3.Write a Python Program to Print the Fibonacci sequence?</h3>"
   ]
  },
  {
   "cell_type": "code",
   "execution_count": 34,
   "id": "270bf79f",
   "metadata": {},
   "outputs": [
    {
     "name": "stdout",
     "output_type": "stream",
     "text": [
      "How many terms? 15\n",
      "Fibonacci sequence:\n",
      "0 1 1 2 3 5 8 13 21 34 55 89 144 233 377 "
     ]
    }
   ],
   "source": [
    "nterms = int(input(\"How many terms? \"))\n",
    "n1, n2 = 0, 1\n",
    "count = 0\n",
    "if nterms == 1:\n",
    "    print(\"Fibonacci sequence upto\",nterms,\":\")\n",
    "    print(n1)\n",
    "else:\n",
    "    print(\"Fibonacci sequence:\")\n",
    "    while count < nterms:\n",
    "        print(n1,end=\" \")\n",
    "        nth = n1 + n2\n",
    "        n1 = n2\n",
    "        n2 = nth\n",
    "        count += 1"
   ]
  },
  {
   "cell_type": "markdown",
   "id": "367d353f",
   "metadata": {},
   "source": [
    "<h3>4.Write a Python Program to Check Armstrong Number?</h3>"
   ]
  },
  {
   "cell_type": "code",
   "execution_count": 35,
   "id": "7088c65b",
   "metadata": {},
   "outputs": [
    {
     "name": "stdout",
     "output_type": "stream",
     "text": [
      "Enter value to check : 153\n",
      "153 it is a Armstrong Number\n"
     ]
    }
   ],
   "source": [
    "def isArmstrong(n):\n",
    "    add,temp = 0,n\n",
    "    while temp > 0:\n",
    "        digit = temp % 10\n",
    "        add += digit ** 3\n",
    "        temp //= 10\n",
    "    if n == add:\n",
    "        return True\n",
    "    else:\n",
    "        return False\n",
    "n = int(input(\"Enter value to check : \"))\n",
    "print(f\"{n} it is a Armstrong Number\" if isArmstrong(n) else f\"{n} is not a Armstrong Number\")"
   ]
  },
  {
   "cell_type": "markdown",
   "id": "c8c33ef2",
   "metadata": {},
   "source": [
    "<h3>5.Write a Python Program to Find Armstrong Number in an Interval</h3>"
   ]
  },
  {
   "cell_type": "code",
   "execution_count": 44,
   "id": "81c00a15",
   "metadata": {},
   "outputs": [
    {
     "name": "stdout",
     "output_type": "stream",
     "text": [
      "Enter the range: 17 742\n",
      "153\n",
      "370\n",
      "371\n",
      "407\n"
     ]
    }
   ],
   "source": [
    "a, b = map(int, input(\"Enter the range: \").split(\" \"))\n",
    "s = 0\n",
    "for i in range(a,b+1):\n",
    "           isArmstrong(i)\n",
    "           if isArmstrong(i):\n",
    "               print(i)"
   ]
  },
  {
   "cell_type": "markdown",
   "id": "42d1980d",
   "metadata": {},
   "source": [
    " <h3>6. Write a Python Program to Find the Sum of Natural Numbers?</h3>"
   ]
  },
  {
   "cell_type": "code",
   "execution_count": 47,
   "id": "8c5fb5a7",
   "metadata": {},
   "outputs": [
    {
     "name": "stdout",
     "output_type": "stream",
     "text": [
      "Enter the range: 4 5\n",
      "9\n"
     ]
    }
   ],
   "source": [
    "f, l = map(int, input(\"Enter the range: \").split(\" \"))\n",
    "s= 0\n",
    "for i in range(f,l+1):\n",
    "    s += i\n",
    "    \n",
    "print(s)"
   ]
  },
  {
   "cell_type": "code",
   "execution_count": null,
   "id": "9aedf268",
   "metadata": {},
   "outputs": [],
   "source": []
  }
 ],
 "metadata": {
  "kernelspec": {
   "display_name": "Python 3",
   "language": "python",
   "name": "python3"
  },
  "language_info": {
   "codemirror_mode": {
    "name": "ipython",
    "version": 3
   },
   "file_extension": ".py",
   "mimetype": "text/x-python",
   "name": "python",
   "nbconvert_exporter": "python",
   "pygments_lexer": "ipython3",
   "version": "3.8.8"
  }
 },
 "nbformat": 4,
 "nbformat_minor": 5
}
