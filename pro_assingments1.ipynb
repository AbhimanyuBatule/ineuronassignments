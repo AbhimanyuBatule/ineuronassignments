{
 "cells": [
  {
   "cell_type": "markdown",
   "id": "1a7229de",
   "metadata": {},
   "source": [
    "<h3> 1.Write a Python program to print \"Hello Python\"?</h3>"
   ]
  },
  {
   "cell_type": "code",
   "execution_count": 1,
   "id": "da31b7be",
   "metadata": {},
   "outputs": [
    {
     "name": "stdout",
     "output_type": "stream",
     "text": [
      "hellow python\n"
     ]
    }
   ],
   "source": [
    "print(\"hellow python\")"
   ]
  },
  {
   "cell_type": "markdown",
   "id": "75e39248",
   "metadata": {},
   "source": [
    "<h3> 2.Write a python program to do arithmetic operations addition and divisi?</h3>"
   ]
  },
  {
   "cell_type": "code",
   "execution_count": 4,
   "id": "05ce6d93",
   "metadata": {},
   "outputs": [
    {
     "name": "stdout",
     "output_type": "stream",
     "text": [
      "Addition of two number a and b is 50\n",
      "Division of two number a and b is 9.0\n"
     ]
    }
   ],
   "source": [
    "a,b = 45,5\n",
    "print(f\"Addition of two number a and b is {a+b}\\nDivision of two number a and b is {a/b}\")\n"
   ]
  },
  {
   "cell_type": "markdown",
   "id": "f6163ce4",
   "metadata": {},
   "source": [
    "<h3> 3.Write a program to find area of triangle</h3>"
   ]
  },
  {
   "cell_type": "code",
   "execution_count": 1,
   "id": "270bf79f",
   "metadata": {},
   "outputs": [
    {
     "name": "stdout",
     "output_type": "stream",
     "text": [
      "Area of Triangle is 90\n"
     ]
    }
   ],
   "source": [
    "h = 12  #Height of trianle \n",
    "b = 15  #base of trianlge \n",
    "# formula for area of triangle\n",
    "area = (1/2)*b*h\n",
    "print(f\"Area of Triangle is {int(area)}\")"
   ]
  },
  {
   "cell_type": "markdown",
   "id": "30cf0244",
   "metadata": {},
   "source": [
    "<h3>4.Write a Python program to swap two variable</h3>"
   ]
  },
  {
   "cell_type": "code",
   "execution_count": 5,
   "id": "7f3eee24",
   "metadata": {},
   "outputs": [
    {
     "name": "stdout",
     "output_type": "stream",
     "text": [
      "Before swaping a=4 b=9\n",
      "After swapping a=9 b=4\n"
     ]
    }
   ],
   "source": [
    "a = 4 \n",
    "b = 9\n",
    "print(f\"Before swaping a={a} b={b}\")\n",
    "a,b = b,a  #code to swap two variable\n",
    "print(f\"After swapping a={a} b={b}\")"
   ]
  },
  {
   "cell_type": "markdown",
   "id": "02ab75a1",
   "metadata": {},
   "source": [
    "<h3>5.Write a program to generate a random number?</h3>"
   ]
  },
  {
   "cell_type": "code",
   "execution_count": 6,
   "id": "deaaa6d8",
   "metadata": {},
   "outputs": [
    {
     "name": "stdout",
     "output_type": "stream",
     "text": [
      "k is a random variable 98\n"
     ]
    }
   ],
   "source": [
    "#to generate random variable we have to use random library\n",
    "import random as r\n",
    "k = r.randint(1,100)\n",
    "print(f\"k is a random variable {k}\")"
   ]
  },
  {
   "cell_type": "code",
   "execution_count": null,
   "id": "142918a8",
   "metadata": {},
   "outputs": [],
   "source": []
  }
 ],
 "metadata": {
  "kernelspec": {
   "display_name": "Python 3",
   "language": "python",
   "name": "python3"
  },
  "language_info": {
   "codemirror_mode": {
    "name": "ipython",
    "version": 3
   },
   "file_extension": ".py",
   "mimetype": "text/x-python",
   "name": "python",
   "nbconvert_exporter": "python",
   "pygments_lexer": "ipython3",
   "version": "3.8.8"
  }
 },
 "nbformat": 4,
 "nbformat_minor": 5
}
