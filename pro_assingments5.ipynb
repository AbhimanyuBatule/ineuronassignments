{
 "cells": [
  {
   "cell_type": "markdown",
   "id": "1a7229de",
   "metadata": {},
   "source": [
    "<h3> 1. Write a Python Program to Find LCM?</h3>"
   ]
  },
  {
   "cell_type": "code",
   "execution_count": 24,
   "id": "da31b7be",
   "metadata": {},
   "outputs": [
    {
     "name": "stdout",
     "output_type": "stream",
     "text": [
      "5\n",
      "Factorial of 5 is 120\n"
     ]
    }
   ],
   "source": [
    "lis = int(input(\"enter the numbers : \").split(\" \"))\n",
    "n1 = lis[0]\n",
    "n2 = lis[1]\n",
    "lcm = compute_lcm(n1,n2)\n",
    "if\n",
    "for i in range(2,len())"
   ]
  },
  {
   "cell_type": "code",
   "execution_count": 48,
   "id": "620522d9",
   "metadata": {},
   "outputs": [
    {
     "name": "stdout",
     "output_type": "stream",
     "text": [
      "10 12\n",
      "LCM of Numbers is 60.\n"
     ]
    }
   ],
   "source": [
    "def lcm_Of_Two(n1, n2):\n",
    "    if (n1 > n2):\n",
    "        num = n1\n",
    "        den = n2\n",
    "    else:\n",
    "        num = n2\n",
    "        den = n1\n",
    "    rem = num % den\n",
    "    while (rem != 0):\n",
    "        num = den\n",
    "        den = rem\n",
    "        rem = num % den\n",
    "    gcd = den\n",
    "    lcm = int(int(n1 * n2) / int(gcd))\n",
    "    return lcm\n",
    "nums = list(map(int,input().split()))\n",
    "num1 = nums[0]\n",
    "num2 = nums[1]\n",
    "lcm = lcm_Of_Two(num1, num2)\n",
    "\n",
    "for i in range(2, len(nums)):\n",
    "    lcm = lcm_Of_Two(lcm, nums[i])\n",
    "\n",
    "print(f\"LCM of Numbers is {lcm}.\")"
   ]
  },
  {
   "cell_type": "markdown",
   "id": "75e39248",
   "metadata": {},
   "source": [
    "<h3> 2.Write a Python Program to Find HCF</h3>"
   ]
  },
  {
   "cell_type": "code",
   "execution_count": 1,
   "id": "05ce6d93",
   "metadata": {},
   "outputs": [
    {
     "name": "stdout",
     "output_type": "stream",
     "text": [
      "6\n"
     ]
    }
   ],
   "source": [
    "def hcf(n1,n2):\n",
    "    while(n2):\n",
    "        n1, n2 = n2, n1 % n2\n",
    "    return n1\n",
    "print(hcf(54,24))"
   ]
  },
  {
   "cell_type": "markdown",
   "id": "f6163ce4",
   "metadata": {},
   "source": [
    "<h3> 3.Write a Python Program to Convert Decimal to Binary, Octal and Hexadecimal?</h3>"
   ]
  },
  {
   "cell_type": "code",
   "execution_count": 5,
   "id": "270bf79f",
   "metadata": {},
   "outputs": [
    {
     "name": "stdout",
     "output_type": "stream",
     "text": [
      "Enter decimal Number: 15\n",
      "Its Binary Conversion : 1111  (0b1111)\n",
      "Its Octal Conversion : 17  (0o17)\n",
      "Its Hexadecimal Conversion : f  (0xf)\n"
     ]
    }
   ],
   "source": [
    "n = int(input(\"Enter decimal Number: \"))\n",
    "print(f\"Its Binary Conversion : {bin(n)[2:]}  ({bin(n)})\\nIts Octal Conversion : {oct(n)[2:]}  ({oct(n)})\\nIts Hexadecimal Conversion : {hex(n)[2:]}  ({hex(n)})\")"
   ]
  },
  {
   "cell_type": "markdown",
   "id": "af129ef3",
   "metadata": {},
   "source": [
    "<h3>4.Write a Python Program To Find ASCII value of a character?</h3>"
   ]
  },
  {
   "cell_type": "code",
   "execution_count": 7,
   "id": "bbefe80f",
   "metadata": {},
   "outputs": [
    {
     "name": "stdout",
     "output_type": "stream",
     "text": [
      "z\n",
      "122\n"
     ]
    }
   ],
   "source": [
    "char = input()\n",
    "print(ord(char))"
   ]
  },
  {
   "cell_type": "markdown",
   "id": "c4266e96",
   "metadata": {},
   "source": [
    "<h3>5.Write a Python Program to Make a Simple Calculator with 4 basic mathematical operations?</h3>"
   ]
  },
  {
   "cell_type": "code",
   "execution_count": 8,
   "id": "18205279",
   "metadata": {},
   "outputs": [
    {
     "name": "stdout",
     "output_type": "stream",
     "text": [
      "Enter two numbers : 15 14\n",
      "Press 1 for addition , Press 2 for subtraction, Press 3 for multiplication, Press 4 for division4\n",
      "Division of 15 and 14 is 1.07\n",
      "Enter 'p' to Continue calculation or enter '0' to stop0\n"
     ]
    }
   ],
   "source": [
    "while True:\n",
    "    a,b = map(int,input(\"Enter two numbers : \").split())\n",
    "    n = int(input(\"Press 1 for addition , Press 2 for subtraction, Press 3 for multiplication, Press 4 for division\"))\n",
    "    if n== 1:\n",
    "            print(f\"Addition of { a} and { b} is {a+b}\")\n",
    "    elif n== 2:\n",
    "            print(f\"Subtraction of { a} and { b} is {a-b}\")\n",
    "    elif n== 3:\n",
    "            print(f\"Multiplication of { a} and { b} is {a*b}\")\n",
    "    elif n== 4 :\n",
    "            print(f\"Division of { a} and { b} is {round(a/b,2)}\")\n",
    "    n = input(\"Enter \\'p\\' to Continue calculation or enter \\'0\\' to stop\")\n",
    "    if n == '0':\n",
    "        break"
   ]
  }
 ],
 "metadata": {
  "kernelspec": {
   "display_name": "Python 3",
   "language": "python",
   "name": "python3"
  },
  "language_info": {
   "codemirror_mode": {
    "name": "ipython",
    "version": 3
   },
   "file_extension": ".py",
   "mimetype": "text/x-python",
   "name": "python",
   "nbconvert_exporter": "python",
   "pygments_lexer": "ipython3",
   "version": "3.8.8"
  }
 },
 "nbformat": 4,
 "nbformat_minor": 5
}
