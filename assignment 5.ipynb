{
 "cells": [
  {
   "cell_type": "markdown",
   "id": "c1e249fb",
   "metadata": {},
   "source": [
    "1. What does an empty dictionary&#39;s code look like?\n",
    "-> we can create a empty dict with a code like follow\n",
    "   items ={}\n",
    "   \n",
    "2. What is the value of a dictionary value with the key 'foo' and the value 42?\n",
    "-> {42, 'foo'}\n",
    "\n",
    "3. What is the most significant distinction between a dictionary and a list?\n",
    "-> A list refers to a collection of various index value pairs like that in the case of an array in C++. A dictionary refers to a hashed structure of various pairs of keys and values. We can create a list by placing all the available elements into a [ ] and separating them using “,” commas.\n",
    "\n",
    "4. What happens if you try to access spam['foo'] if spam is {'foo': 100}?\n",
    "-> The in operator checks whether a value exists as a key in the dictionary.IT will throw a error\n",
    "\n",
    "5. If a dictionary is stored in spam, what is the difference between the expressions 'cat' in spam and\n",
    "'cat' in spam.keys()?\n",
    "-> There is no difference. The in operator checks whether a value exists as a key in the dictionary. 'cat' in spam checks whether there is a 'cat' key in the dictionary, while 'cat' in spam. values() checks whether there is a value 'cat' for one of the keys in spam .\n",
    "\n",
    "6. If a dictionary is stored in spam, what is the difference between the expressions 'cat' in spam and\n",
    "'cat' in spam.values()?\n",
    "-> There is no difference. The in operator checks whether a value exists as a key in the dictionary. 'cat' in spam checks whether there is a 'cat' key in the dictionary, while 'cat' in spam. values() checks whether there is a value 'cat' for one of the keys in spam .\n",
    "\n",
    "7. What is a shortcut for the following code?\n",
    "if'color' not in spam:\n",
    "spam['color'] = 'black'\n",
    "-> spam.setdefault('color','black')\n",
    "\n",
    "8. How do you\"pretty print\" dictionary values using which module and function?\n",
    "-> Use pprint() to Pretty Print a Dictionary in Python\n"
   ]
  }
 ],
 "metadata": {
  "kernelspec": {
   "display_name": "Python 3",
   "language": "python",
   "name": "python3"
  },
  "language_info": {
   "codemirror_mode": {
    "name": "ipython",
    "version": 3
   },
   "file_extension": ".py",
   "mimetype": "text/x-python",
   "name": "python",
   "nbconvert_exporter": "python",
   "pygments_lexer": "ipython3",
   "version": "3.8.8"
  }
 },
 "nbformat": 4,
 "nbformat_minor": 5
}
